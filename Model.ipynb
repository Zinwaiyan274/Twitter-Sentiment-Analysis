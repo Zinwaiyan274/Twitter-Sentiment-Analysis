{
  "nbformat": 4,
  "nbformat_minor": 0,
  "metadata": {
    "colab": {
      "provenance": [],
      "collapsed_sections": [],
      "authorship_tag": "ABX9TyMTDipU0+t83U+/wV57ARZo",
      "include_colab_link": true
    },
    "kernelspec": {
      "name": "python3",
      "display_name": "Python 3"
    },
    "language_info": {
      "name": "python"
    }
  },
  "cells": [
    {
      "cell_type": "markdown",
      "metadata": {
        "id": "view-in-github",
        "colab_type": "text"
      },
      "source": [
        "<a href=\"https://colab.research.google.com/github/Zinwaiyan274/Twitter-Sentiment-Analysis/blob/main/Model.ipynb\" target=\"_parent\"><img src=\"https://colab.research.google.com/assets/colab-badge.svg\" alt=\"Open In Colab\"/></a>"
      ]
    },
    {
      "cell_type": "code",
      "execution_count": null,
      "metadata": {
        "colab": {
          "base_uri": "https://localhost:8080/"
        },
        "id": "vhBDIpmC9Bxr",
        "outputId": "24643dbf-10a5-467a-e3f3-55049cd4baeb"
      },
      "outputs": [
        {
          "output_type": "stream",
          "name": "stderr",
          "text": [
            "[nltk_data] Downloading package stopwords to /root/nltk_data...\n",
            "[nltk_data]   Package stopwords is already up-to-date!\n"
          ]
        }
      ],
      "source": [
        "import pandas as pd\n",
        "import numpy as np\n",
        "\n",
        "#Text processing libraries\n",
        "import re\n",
        "import nltk\n",
        "from sklearn.feature_extraction.text import TfidfVectorizer #feature extraction\n",
        "\n",
        "\n",
        "#model building\n",
        "from sklearn.model_selection import train_test_split \n",
        "from sklearn.linear_model import LogisticRegression\n",
        "from sklearn.tree import DecisionTreeClassifier\n",
        "from sklearn.ensemble import RandomForestClassifier\n",
        "from sklearn.naive_bayes import MultinomialNB\n",
        "\n",
        "#evaluation metrics\n",
        "from sklearn.metrics import confusion_matrix,f1_score, precision_score, accuracy_score, ConfusionMatrixDisplay, recall_score\n",
        "\n",
        "nltk.download('stopwords')\n",
        "stop_words = set(stopwords.words('english')) \n",
        "\n",
        "lemmatizer = WordNetLemmatizer() \n",
        "\n",
        "pd.pandas.set_option('display.max_columns',None)"
      ]
    },
    {
      "cell_type": "code",
      "source": [
        "#TF-IDF\n",
        "vectorizer = TfidfVectorizer(stop_words='english',ngram_range=(1,3),min_df=10,max_features=10000) \n",
        "\n",
        "features_train= vectorizer.fit_transform(X_train['Tweet'])\n",
        "\n",
        "features_valid= vectorizer.transform(X_valid['Tweet'])\n",
        "\n",
        "features_train.shape, features_valid.shape"
      ],
      "metadata": {
        "colab": {
          "base_uri": "https://localhost:8080/"
        },
        "id": "ZL2H4h6MAKXR",
        "outputId": "30e4e657-1830-42aa-de4e-812c9163ed6a"
      },
      "execution_count": null,
      "outputs": [
        {
          "output_type": "execute_result",
          "data": {
            "text/plain": [
              "((51797, 9076), (22199, 9076))"
            ]
          },
          "metadata": {},
          "execution_count": 138
        }
      ]
    },
    {
      "cell_type": "code",
      "source": [
        "#Multinomail Naive Bayes\n",
        "def model(model):\n",
        "   \n",
        "    model.fit(features_train,y_train)\n",
        "    pred=model.predict(features_valid)\n",
        "  \n",
        "    print(model)\n",
        "    print('Accuracy score: ',accuracy_score(pred,y_valid))\n",
        "    print('F1 score: ',f1_score(y_pred=pred,y_true=y_valid,average='weighted'))\n",
        "    print(\"recall\", recall_score(pred,y_valid, average='weighted'))\n",
        "    print('Precision: ', precision_score(pred,y_valid, average='macro'))\n",
        "    print('Confusion Matrix: \\n',confusion_matrix(pred,y_valid))\n",
        "    \n",
        "    \n",
        "   \n",
        "nb=MultinomialNB()\n",
        "model(nb)"
      ],
      "metadata": {
        "colab": {
          "base_uri": "https://localhost:8080/"
        },
        "id": "oXnlSlB2AQZH",
        "outputId": "f75df819-01c3-458b-b511-2e396e098659"
      },
      "execution_count": null,
      "outputs": [
        {
          "output_type": "stream",
          "name": "stdout",
          "text": [
            "MultinomialNB()\n",
            "Accuracy score:  0.6667867921978468\n",
            "F1 score:  0.6570664405036415\n",
            "recall 0.6667867921978468\n",
            "Precision:  0.6364687639517542\n",
            "Confusion Matrix: \n",
            " [[1599   86  180  162]\n",
            " [ 944 5522 1174  955]\n",
            " [ 409  436 3015  444]\n",
            " [ 957  600 1050 4666]]\n"
          ]
        }
      ]
    },
    {
      "cell_type": "code",
      "source": [
        "#Logistic Regression\n",
        "lr=LogisticRegression(random_state=10,max_iter=600)\n",
        "pre = model(lr)\n",
        "pre\n",
        "# from sklearn.metrics  import confusion_matrix\n",
        "# confusion_matrix(y_valid, pre)"
      ],
      "metadata": {
        "colab": {
          "base_uri": "https://localhost:8080/"
        },
        "id": "4q6MysK8AQb-",
        "outputId": "670ae78f-cef1-407b-cbaa-70f3bd371642"
      },
      "execution_count": null,
      "outputs": [
        {
          "output_type": "stream",
          "name": "stdout",
          "text": [
            "LogisticRegression(max_iter=600, random_state=10)\n",
            "Accuracy score:  0.7247173296094419\n",
            "F1 score:  0.7214644012217224\n",
            "recall 0.7247173296094419\n",
            "Precision:  0.7064360570442305\n",
            "Confusion Matrix: \n",
            " [[2227  209  264  294]\n",
            " [ 620 5575  859  746]\n",
            " [ 434  425 3603  504]\n",
            " [ 628  435  693 4683]]\n"
          ]
        }
      ]
    },
    {
      "cell_type": "code",
      "source": [
        "#Decision Tree\n",
        "dt=DecisionTreeClassifier(random_state=10)\n",
        "model(dt)"
      ],
      "metadata": {
        "colab": {
          "base_uri": "https://localhost:8080/"
        },
        "id": "Kyc5LSjcAQeZ",
        "outputId": "4721d940-b8ea-4458-9635-b66da37b2965"
      },
      "execution_count": null,
      "outputs": [
        {
          "output_type": "stream",
          "name": "stdout",
          "text": [
            "DecisionTreeClassifier(random_state=10)\n",
            "Accuracy score:  0.7913869994143881\n",
            "F1 score:  0.7912600288746594\n",
            "recall 0.7913869994143881\n",
            "Precision:  0.7826887723987173\n",
            "Confusion Matrix: \n",
            " [[2779  180  206  286]\n",
            " [ 325 5440  390  438]\n",
            " [ 247  365 4163  317]\n",
            " [ 558  659  660 5186]]\n"
          ]
        }
      ]
    },
    {
      "cell_type": "code",
      "source": [
        "#Random Forest\n",
        "rf=RandomForestClassifier(random_state=300,n_jobs=-1)\n",
        "                        # random_state=101 doesn't change Confusion Matrix\n",
        "model(rf)"
      ],
      "metadata": {
        "colab": {
          "base_uri": "https://localhost:8080/"
        },
        "id": "JydDpfl-AKay",
        "outputId": "0ba1c3c6-b8d5-4875-8de2-c5cd663fbc92"
      },
      "execution_count": null,
      "outputs": [
        {
          "output_type": "stream",
          "name": "stdout",
          "text": [
            "RandomForestClassifier(n_jobs=-1, random_state=300)\n",
            "Accuracy score:  0.881616289022028\n",
            "F1 score:  0.8817911883486355\n",
            "recall 0.881616289022028\n",
            "Precision:  0.873596216232276\n",
            "Confusion Matrix: \n",
            " [[3156   60   77   89]\n",
            " [ 206 6019  211  268]\n",
            " [ 124  143 4660  134]\n",
            " [ 423  422  471 5736]]\n"
          ]
        }
      ]
    },
    {
      "cell_type": "code",
      "source": [
        "#Decision Tree\n",
        "dt=DecisionTreeClassifier(random_state=10)\n",
        "model(dt)"
      ],
      "metadata": {
        "colab": {
          "base_uri": "https://localhost:8080/"
        },
        "id": "JsGaikaBZpDq",
        "outputId": "f98438ea-4468-49b2-b0d2-36a0cb00937e"
      },
      "execution_count": null,
      "outputs": [
        {
          "output_type": "stream",
          "name": "stdout",
          "text": [
            "DecisionTreeClassifier(random_state=10)\n",
            "Accuracy score:  0.7913869994143881\n",
            "F1 score:  0.7912600288746594\n",
            "recall 0.7913869994143881\n",
            "Precision:  0.7826887723987173\n",
            "Confusion Matrix: \n",
            " [[2779  180  206  286]\n",
            " [ 325 5440  390  438]\n",
            " [ 247  365 4163  317]\n",
            " [ 558  659  660 5186]]\n"
          ]
        }
      ]
    }
  ]
}